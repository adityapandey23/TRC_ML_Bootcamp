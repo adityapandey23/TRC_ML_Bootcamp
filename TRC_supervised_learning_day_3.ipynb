{
  "nbformat": 4,
  "nbformat_minor": 0,
  "metadata": {
    "colab": {
      "provenance": [],
      "authorship_tag": "ABX9TyPhl9F22W9/AQ+Fum+BXQrX"
    },
    "kernelspec": {
      "name": "python3",
      "display_name": "Python 3"
    },
    "language_info": {
      "name": "python"
    }
  },
  "cells": [
    {
      "cell_type": "markdown",
      "source": [
        "# Machine Learning\n",
        "---"
      ],
      "metadata": {
        "id": "_kKoZjPtBn6l"
      }
    },
    {
      "cell_type": "markdown",
      "source": [
        "## Introduction\n",
        "\n",
        "1.   Enabling Machine Learning through Data:\n",
        "\n",
        "*   Facilitating the learning process of machines by exposing them to relevant data.\n",
        "*   Providing the necessary input data for machine learning algorithms to derive insights and make predictions.\n",
        "\n",
        "\n",
        "2.   Mathematical Foundation of ML Models:\n",
        "\n",
        "*   ML models serve as mathematical functions applied to data for pattern recognition.\n",
        "*   Utilizing mathematical algorithms to extract patterns and relationships within datasets.\n",
        "\n",
        "\n",
        "3.   Numeric Nature of ML Models:\n",
        "\n",
        "*   Emphasizing that machine learning models primarily comprehend numerical data.\n",
        "*   Highlighting the inherent reliance of ML models on numeric representations for effective understanding and analysis.\n",
        "\n",
        "\n",
        "4. Workflow of ML projects\n",
        "\n",
        "*   The normal workflow of any ML project is :\n",
        "Data Inputs -> Converting them into numbers -> Application of mathematical functions -> Weights -> Output in human understandable form\n",
        "\n"
      ],
      "metadata": {
        "id": "nf-3MRUv1e_f"
      }
    },
    {
      "cell_type": "markdown",
      "source": [
        "## Types of Machine learning models:\n",
        "\n",
        "\n",
        "1.   ### **Supervised learning** :\n",
        "\n",
        "\n",
        "*   In this we use labeled data to train our algorithm and then when we provide a new input it'll be able to predict the solution for that.\n",
        "\n",
        "*   We always divide the dataset that we have originally into two parts, training data and testing data which is pretty self explanatory (80-20 Rule)\n",
        "*   There are two major types of supervised learning, regression and classification\n",
        "\n",
        "\n",
        "\n",
        "2.   ### **Unsupervised learning** :\n",
        "\n",
        "\n",
        "*   In this we don't use labeled data to train our algorithm and then when we provide a new input it'll be able to predict the solution for that.\n",
        "\n",
        "*   There are two major types of unsupervised learning, clustering and dimensionality reduction\n",
        "\n"
      ],
      "metadata": {
        "id": "cE4__PKZ40h2"
      }
    },
    {
      "cell_type": "markdown",
      "source": [
        "### Brief about dimensionality reduction\n",
        "Let's say for a particular things we have 200 features i.e. we have 200 things that help us for identification of a particular object. Even for the machine 200 features is too much information, so, dimensionality reduction is the way we reduce the number of feature at the cost of no or minimum loss of data"
      ],
      "metadata": {
        "id": "uRVVVUoIA1wk"
      }
    },
    {
      "cell_type": "markdown",
      "source": [
        "---"
      ],
      "metadata": {
        "id": "mkAr6MCNBzQe"
      }
    },
    {
      "cell_type": "markdown",
      "source": [
        "## Regression\n",
        "\n",
        "In machine learning, regression is a type of supervised learning that involves predicting a continuous outcome variable (dependent variable) based on one or more predictor variables (independent variables). The primary goal is to create a model that can accurately predict the output for new, unseen data points."
      ],
      "metadata": {
        "id": "P36EY7c3B0i9"
      }
    },
    {
      "cell_type": "code",
      "execution_count": null,
      "metadata": {
        "id": "Pfexcd28kLtC"
      },
      "outputs": [],
      "source": [
        "import numpy as np\n",
        "import pandas as pd\n",
        "import matplotlib.pyplot as plt\n",
        "from sklearn.model_selection import train_test_split # sklearn is an library | it is a collection of ML models\n",
        "# train_test_split is used to split the data to training and testing\n",
        "from sklearn.linear_model import LinearRegression\n",
        "# The mathematical function which relates the independent and dependent linearly only\n",
        "from sklearn.metrics import mean_squared_error\n",
        "# This is basically to check the accuracy of the model"
      ]
    }
  ]
}